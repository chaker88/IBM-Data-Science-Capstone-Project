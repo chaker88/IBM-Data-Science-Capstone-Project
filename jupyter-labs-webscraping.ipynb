{
 "cells": [
  {
   "cell_type": "markdown",
   "id": "8cc36e85-e742-4c84-837a-98a0597a96fe",
   "metadata": {},
   "source": [
    "<p style=\"text-align:center\">\n",
    "    <a href=\"https://skills.network\" target=\"_blank\">\n",
    "    <img src=\"https://cf-courses-data.s3.us.cloud-object-storage.appdomain.cloud/assets/logos/SN_web_lightmode.png\" width=\"200\" alt=\"Skills Network Logo\">\n",
    "    </a>\n",
    "</p>\n"
   ]
  },
  {
   "cell_type": "markdown",
   "id": "c1802427-1e09-479e-8812-2a7a6ab977cb",
   "metadata": {},
   "source": [
    "# **Space X  Falcon 9 First Stage Landing Prediction**\n"
   ]
  },
  {
   "cell_type": "markdown",
   "id": "9a3e2ec6-7d51-4cc7-9581-4e7c6901366f",
   "metadata": {},
   "source": [
    "## Web scraping Falcon 9 and Falcon Heavy Launches Records from Wikipedia\n"
   ]
  },
  {
   "cell_type": "markdown",
   "id": "493069c4-2d91-4f44-9cbc-39b992d117fa",
   "metadata": {},
   "source": [
    "Estimated time needed: **40** minutes\n"
   ]
  },
  {
   "cell_type": "markdown",
   "id": "6f6fb636-4197-4165-abe1-3977cb145b7e",
   "metadata": {},
   "source": [
    "In this lab, you will be performing web scraping to collect Falcon 9 historical launch records from a Wikipedia page titled `List of Falcon 9 and Falcon Heavy launches`\n",
    "\n",
    "https://en.wikipedia.org/wiki/List_of_Falcon_9_and_Falcon_Heavy_launches\n"
   ]
  },
  {
   "cell_type": "markdown",
   "id": "a44468cb-dc83-4bb6-a2c8-23f11430c25d",
   "metadata": {},
   "source": [
    "![](https://cf-courses-data.s3.us.cloud-object-storage.appdomain.cloud/IBM-DS0321EN-SkillsNetwork/labs/module_1_L2/images/Falcon9_rocket_family.svg)\n"
   ]
  },
  {
   "cell_type": "markdown",
   "id": "656e6880-2131-4e13-80ca-72b2569aabfa",
   "metadata": {},
   "source": [
    "Falcon 9 first stage will land successfully\n"
   ]
  },
  {
   "cell_type": "markdown",
   "id": "ed12b653-83f6-460a-a588-aafb3b588305",
   "metadata": {},
   "source": [
    "![](https://cf-courses-data.s3.us.cloud-object-storage.appdomain.cloud/IBMDeveloperSkillsNetwork-DS0701EN-SkillsNetwork/api/Images/landing_1.gif)\n"
   ]
  },
  {
   "cell_type": "markdown",
   "id": "e633b9ae-e2b8-4286-997c-eefd1e9c5a21",
   "metadata": {},
   "source": [
    "Several examples of an unsuccessful landing are shown here:\n"
   ]
  },
  {
   "cell_type": "markdown",
   "id": "2e44dc45-d2f4-4c3b-a3db-2160a716c5ca",
   "metadata": {},
   "source": [
    "![](https://cf-courses-data.s3.us.cloud-object-storage.appdomain.cloud/IBMDeveloperSkillsNetwork-DS0701EN-SkillsNetwork/api/Images/crash.gif)\n"
   ]
  },
  {
   "cell_type": "markdown",
   "id": "7f268b83-8634-43c2-8bc4-337397bbb892",
   "metadata": {},
   "source": [
    "More specifically, the launch records are stored in a HTML table shown below:\n"
   ]
  },
  {
   "cell_type": "markdown",
   "id": "810a3675-0570-4ce6-8dbd-639aa802fb43",
   "metadata": {},
   "source": [
    "![](https://cf-courses-data.s3.us.cloud-object-storage.appdomain.cloud/IBM-DS0321EN-SkillsNetwork/labs/module_1_L2/images/falcon9-launches-wiki.png)\n"
   ]
  },
  {
   "cell_type": "markdown",
   "id": "bfc727c3-7d98-4b3e-8937-b478f6689c2c",
   "metadata": {},
   "source": [
    "  ## Objectives\n",
    "Web scrap Falcon 9 launch records with `BeautifulSoup`: \n",
    "- Extract a Falcon 9 launch records HTML table from Wikipedia\n",
    "- Parse the table and convert it into a Pandas data frame\n"
   ]
  },
  {
   "cell_type": "markdown",
   "id": "949facc0-8067-4e1d-aa63-e7f0d3a1d818",
   "metadata": {},
   "source": [
    "First let's import required packages for this lab\n"
   ]
  },
  {
   "cell_type": "code",
   "execution_count": 3,
   "id": "14cb1575-916d-4bb7-96ad-e93eb46c6d3d",
   "metadata": {},
   "outputs": [
    {
     "name": "stdout",
     "output_type": "stream",
     "text": [
      "Requirement already satisfied: beautifulsoup4 in c:\\users\\chake\\miniconda3\\envs\\chak_env\\lib\\site-packages (4.12.3)\n",
      "Requirement already satisfied: soupsieve>1.2 in c:\\users\\chake\\miniconda3\\envs\\chak_env\\lib\\site-packages (from beautifulsoup4) (2.5)\n",
      "Requirement already satisfied: requests in c:\\users\\chake\\miniconda3\\envs\\chak_env\\lib\\site-packages (2.32.3)\n",
      "Requirement already satisfied: charset-normalizer<4,>=2 in c:\\users\\chake\\miniconda3\\envs\\chak_env\\lib\\site-packages (from requests) (2.0.12)\n",
      "Requirement already satisfied: idna<4,>=2.5 in c:\\users\\chake\\miniconda3\\envs\\chak_env\\lib\\site-packages (from requests) (3.10)\n",
      "Requirement already satisfied: urllib3<3,>=1.21.1 in c:\\users\\chake\\miniconda3\\envs\\chak_env\\lib\\site-packages (from requests) (1.26.20)\n",
      "Requirement already satisfied: certifi>=2017.4.17 in c:\\users\\chake\\miniconda3\\envs\\chak_env\\lib\\site-packages (from requests) (2025.4.26)\n"
     ]
    }
   ],
   "source": [
    "!pip3 install beautifulsoup4\n",
    "!pip3 install requests"
   ]
  },
  {
   "cell_type": "code",
   "execution_count": 4,
   "id": "8920c88b-3865-4bbf-8f3c-1a1da57d0356",
   "metadata": {},
   "outputs": [],
   "source": [
    "import sys\n",
    "\n",
    "import requests\n",
    "from bs4 import BeautifulSoup\n",
    "import re\n",
    "import unicodedata\n",
    "import pandas as pd"
   ]
  },
  {
   "cell_type": "markdown",
   "id": "13de2829-bcd5-485a-b0b7-cb67518f2ddf",
   "metadata": {},
   "source": [
    "and we will provide some helper functions for you to process web scraped HTML table\n"
   ]
  },
  {
   "cell_type": "code",
   "execution_count": 5,
   "id": "64e7ca68-2201-4543-9734-1e1753d1418d",
   "metadata": {},
   "outputs": [],
   "source": [
    "def date_time(table_cells):\n",
    "    \"\"\"\n",
    "    This function returns the data and time from the HTML  table cell\n",
    "    Input: the  element of a table data cell extracts extra row\n",
    "    \"\"\"\n",
    "    return [data_time.strip() for data_time in list(table_cells.strings)][0:2]\n",
    "\n",
    "def booster_version(table_cells):\n",
    "    \"\"\"\n",
    "    This function returns the booster version from the HTML  table cell \n",
    "    Input: the  element of a table data cell extracts extra row\n",
    "    \"\"\"\n",
    "    out=''.join([booster_version for i,booster_version in enumerate( table_cells.strings) if i%2==0][0:-1])\n",
    "    return out\n",
    "\n",
    "def landing_status(table_cells):\n",
    "    \"\"\"\n",
    "    This function returns the landing status from the HTML table cell \n",
    "    Input: the  element of a table data cell extracts extra row\n",
    "    \"\"\"\n",
    "    out=[i for i in table_cells.strings][0]\n",
    "    return out\n",
    "\n",
    "\n",
    "def get_mass(table_cells):\n",
    "    mass=unicodedata.normalize(\"NFKD\", table_cells.text).strip()\n",
    "    if mass:\n",
    "        mass.find(\"kg\")\n",
    "        new_mass=mass[0:mass.find(\"kg\")+2]\n",
    "    else:\n",
    "        new_mass=0\n",
    "    return new_mass\n",
    "\n",
    "\n",
    "def extract_column_from_header(row):\n",
    "    \"\"\"\n",
    "    This function returns the landing status from the HTML table cell \n",
    "    Input: the  element of a table data cell extracts extra row\n",
    "    \"\"\"\n",
    "    if (row.br):\n",
    "        row.br.extract()\n",
    "    if row.a:\n",
    "        row.a.extract()\n",
    "    if row.sup:\n",
    "        row.sup.extract()\n",
    "        \n",
    "    colunm_name = ' '.join(row.contents)\n",
    "    \n",
    "    # Filter the digit and empty names\n",
    "    if not(colunm_name.strip().isdigit()):\n",
    "        colunm_name = colunm_name.strip()\n",
    "        return colunm_name    \n"
   ]
  },
  {
   "cell_type": "markdown",
   "id": "e47870b7-752a-4576-8768-6ccfa8f2f4c3",
   "metadata": {},
   "source": [
    "To keep the lab tasks consistent, you will be asked to scrape the data from a snapshot of the  `List of Falcon 9 and Falcon Heavy launches` Wikipage updated on\n",
    "`9th June 2021`\n"
   ]
  },
  {
   "cell_type": "code",
   "execution_count": 6,
   "id": "cc525e75-fec2-401d-ab6e-8d2b2ef7c426",
   "metadata": {},
   "outputs": [],
   "source": [
    "static_url = \"https://en.wikipedia.org/w/index.php?title=List_of_Falcon_9_and_Falcon_Heavy_launches&oldid=1027686922\""
   ]
  },
  {
   "cell_type": "markdown",
   "id": "0b7a0ee1-f88f-4c64-91ca-6f45e6a684f4",
   "metadata": {},
   "source": [
    "Next, request the HTML page from the above URL and get a `response` object\n"
   ]
  },
  {
   "cell_type": "markdown",
   "id": "cdf1b091-196a-47b5-8dd6-b7ce9fdefce4",
   "metadata": {},
   "source": [
    "### TASK 1: Request the Falcon9 Launch Wiki page from its URL\n"
   ]
  },
  {
   "cell_type": "markdown",
   "id": "8cb63967-b688-42f9-8775-b18587169579",
   "metadata": {},
   "source": [
    "First, let's perform an HTTP GET method to request the Falcon9 Launch HTML page, as an HTTP response.\n"
   ]
  },
  {
   "cell_type": "code",
   "execution_count": 7,
   "id": "1571d30a-141d-457f-baa3-538fcea60f1a",
   "metadata": {},
   "outputs": [],
   "source": [
    "# use requests.get() method with the provided static_url\n",
    "# assign the response to a object\n",
    "response = requests.get(static_url)"
   ]
  },
  {
   "cell_type": "markdown",
   "id": "092c88c9-deeb-4614-b747-2e64a7147825",
   "metadata": {},
   "source": [
    "Create a `BeautifulSoup` object from the HTML `response`\n"
   ]
  },
  {
   "cell_type": "code",
   "execution_count": 8,
   "id": "e24216e7-a817-4392-959a-9d8a3a0777d5",
   "metadata": {},
   "outputs": [],
   "source": [
    "# Use BeautifulSoup() to create a BeautifulSoup object from a response text content\n",
    "soup = BeautifulSoup(response.text, 'html.parser')"
   ]
  },
  {
   "cell_type": "markdown",
   "id": "9fff6330-aed7-4efd-90d1-a5e9dad25eff",
   "metadata": {},
   "source": [
    "Print the page title to verify if the `BeautifulSoup` object was created properly \n"
   ]
  },
  {
   "cell_type": "code",
   "execution_count": 9,
   "id": "083edb6a-387c-4fe7-9278-238b6bac7339",
   "metadata": {},
   "outputs": [
    {
     "name": "stdout",
     "output_type": "stream",
     "text": [
      "<title>List of Falcon 9 and Falcon Heavy launches - Wikipedia</title>\n"
     ]
    }
   ],
   "source": [
    "# Use soup.title attribute\n",
    "print(soup.title)"
   ]
  },
  {
   "cell_type": "markdown",
   "id": "cd249b6c-478e-4ca8-a5f3-4f41943dd681",
   "metadata": {},
   "source": [
    "### TASK 2: Extract all column/variable names from the HTML table header\n"
   ]
  },
  {
   "cell_type": "markdown",
   "id": "426a67ab-e679-4395-ad1b-4dd756fb7e8b",
   "metadata": {},
   "source": [
    "Next, we want to collect all relevant column names from the HTML table header\n"
   ]
  },
  {
   "cell_type": "markdown",
   "id": "2d0f485d-8ad5-4543-92c0-f0c859167af3",
   "metadata": {},
   "source": [
    "Let's try to find all tables on the wiki page first. If you need to refresh your memory about `BeautifulSoup`, please check the external reference link towards the end of this lab\n"
   ]
  },
  {
   "cell_type": "code",
   "execution_count": 10,
   "id": "11589950-76e7-4cd2-80b0-76001e18b0b0",
   "metadata": {},
   "outputs": [],
   "source": [
    "# Use the find_all function in the BeautifulSoup object, with element type `table`\n",
    "# Assign the result to a list called `html_tables`\n",
    "html_tables = soup.find_all('table')"
   ]
  },
  {
   "cell_type": "markdown",
   "id": "d6e5c743-efd2-4d34-a5e0-a4868bdcd7d7",
   "metadata": {},
   "source": [
    "Starting from the third table is our target table contains the actual launch records.\n"
   ]
  },
  {
   "cell_type": "code",
   "execution_count": 11,
   "id": "986c4484-b591-484c-aecd-d9061450a25e",
   "metadata": {},
   "outputs": [
    {
     "name": "stdout",
     "output_type": "stream",
     "text": [
      "<table class=\"wikitable plainrowheaders collapsible\" style=\"width: 100%;\">\n",
      "<tbody><tr>\n",
      "<th scope=\"col\">Flight No.\n",
      "</th>\n",
      "<th scope=\"col\">Date and<br/>time (<a href=\"/wiki/Coordinated_Universal_Time\" title=\"Coordinated Universal Time\">UTC</a>)\n",
      "</th>\n",
      "<th scope=\"col\"><a href=\"/wiki/List_of_Falcon_9_first-stage_boosters\" title=\"List of Falcon 9 first-stage boosters\">Version,<br/>Booster</a> <sup class=\"reference\" id=\"cite_ref-booster_11-0\"><a href=\"#cite_note-booster-11\"><span class=\"cite-bracket\">[</span>b<span class=\"cite-bracket\">]</span></a></sup>\n",
      "</th>\n",
      "<th scope=\"col\">Launch site\n",
      "</th>\n",
      "<th scope=\"col\">Payload<sup class=\"reference\" id=\"cite_ref-Dragon_12-0\"><a href=\"#cite_note-Dragon-12\"><span class=\"cite-bracket\">[</span>c<span class=\"cite-bracket\">]</span></a></sup>\n",
      "</th>\n",
      "<th scope=\"col\">Payload mass\n",
      "</th>\n",
      "<th scope=\"col\">Orbit\n",
      "</th>\n",
      "<th scope=\"col\">Customer\n",
      "</th>\n",
      "<th scope=\"col\">Launch<br/>outcome\n",
      "</th>\n",
      "<th scope=\"col\"><a href=\"/wiki/Falcon_9_first-stage_landing_tests\" title=\"Falcon 9 first-stage landing tests\">Booster<br/>landing</a>\n",
      "</th></tr>\n",
      "<tr>\n",
      "<th rowspan=\"2\" scope=\"row\" style=\"text-align:center;\">1\n",
      "</th>\n",
      "<td>4 June 2010,<br/>18:45\n",
      "</td>\n",
      "<td><a href=\"/wiki/Falcon_9_v1.0\" title=\"Falcon 9 v1.0\">F9 v1.0</a><sup class=\"reference\" id=\"cite_ref-MuskMay2012_13-0\"><a href=\"#cite_note-MuskMay2012-13\"><span class=\"cite-bracket\">[</span>7<span class=\"cite-bracket\">]</span></a></sup><br/>B0003.1<sup class=\"reference\" id=\"cite_ref-block_numbers_14-0\"><a href=\"#cite_note-block_numbers-14\"><span class=\"cite-bracket\">[</span>8<span class=\"cite-bracket\">]</span></a></sup>\n",
      "</td>\n",
      "<td><a href=\"/wiki/Cape_Canaveral_Space_Force_Station\" title=\"Cape Canaveral Space Force Station\">CCAFS</a>,<br/><a href=\"/wiki/Cape_Canaveral_Space_Launch_Complex_40\" title=\"Cape Canaveral Space Launch Complex 40\">SLC-40</a>\n",
      "</td>\n",
      "<td><a href=\"/wiki/Dragon_Spacecraft_Qualification_Unit\" title=\"Dragon Spacecraft Qualification Unit\">Dragon Spacecraft Qualification Unit</a>\n",
      "</td>\n",
      "<td>\n",
      "</td>\n",
      "<td><a href=\"/wiki/Low_Earth_orbit\" title=\"Low Earth orbit\">LEO</a>\n",
      "</td>\n",
      "<td><a href=\"/wiki/SpaceX\" title=\"SpaceX\">SpaceX</a>\n",
      "</td>\n",
      "<td class=\"table-success\" style=\"background: #9EFF9E; color:black; vertical-align: middle; text-align: center;\">Success\n",
      "</td>\n",
      "<td class=\"table-failure\" style=\"background: #FFC7C7; color:black; vertical-align: middle; text-align: center;\">Failure<sup class=\"reference\" id=\"cite_ref-ns20110930_15-0\"><a href=\"#cite_note-ns20110930-15\"><span class=\"cite-bracket\">[</span>9<span class=\"cite-bracket\">]</span></a></sup><sup class=\"reference\" id=\"cite_ref-16\"><a href=\"#cite_note-16\"><span class=\"cite-bracket\">[</span>10<span class=\"cite-bracket\">]</span></a></sup><br/><small>(parachute)</small>\n",
      "</td></tr>\n",
      "<tr>\n",
      "<td colspan=\"9\">First flight of Falcon 9 v1.0.<sup class=\"reference\" id=\"cite_ref-sfn20100604_17-0\"><a href=\"#cite_note-sfn20100604-17\"><span class=\"cite-bracket\">[</span>11<span class=\"cite-bracket\">]</span></a></sup> Used a boilerplate version of Dragon capsule which was not designed to separate from the second stage.<small>(<a href=\"#First_flight_of_Falcon_9\">more details below</a>)</small> Attempted to recover the first stage by parachuting it into the ocean, but it burned up on reentry, before the parachutes even deployed.<sup class=\"reference\" id=\"cite_ref-parachute_18-0\"><a href=\"#cite_note-parachute-18\"><span class=\"cite-bracket\">[</span>12<span class=\"cite-bracket\">]</span></a></sup>\n",
      "</td></tr>\n",
      "<tr>\n",
      "<th rowspan=\"2\" scope=\"row\" style=\"text-align:center;\">2\n",
      "</th>\n",
      "<td>8 December 2010,<br/>15:43<sup class=\"reference\" id=\"cite_ref-spaceflightnow_Clark_Launch_Report_19-0\"><a href=\"#cite_note-spaceflightnow_Clark_Launch_Report-19\"><span class=\"cite-bracket\">[</span>13<span class=\"cite-bracket\">]</span></a></sup>\n",
      "</td>\n",
      "<td><a href=\"/wiki/Falcon_9_v1.0\" title=\"Falcon 9 v1.0\">F9 v1.0</a><sup class=\"reference\" id=\"cite_ref-MuskMay2012_13-1\"><a href=\"#cite_note-MuskMay2012-13\"><span class=\"cite-bracket\">[</span>7<span class=\"cite-bracket\">]</span></a></sup><br/>B0004.1<sup class=\"reference\" id=\"cite_ref-block_numbers_14-1\"><a href=\"#cite_note-block_numbers-14\"><span class=\"cite-bracket\">[</span>8<span class=\"cite-bracket\">]</span></a></sup>\n",
      "</td>\n",
      "<td><a href=\"/wiki/Cape_Canaveral_Space_Force_Station\" title=\"Cape Canaveral Space Force Station\">CCAFS</a>,<br/><a href=\"/wiki/Cape_Canaveral_Space_Launch_Complex_40\" title=\"Cape Canaveral Space Launch Complex 40\">SLC-40</a>\n",
      "</td>\n",
      "<td><a href=\"/wiki/SpaceX_Dragon\" title=\"SpaceX Dragon\">Dragon</a> <a class=\"mw-redirect\" href=\"/wiki/COTS_Demo_Flight_1\" title=\"COTS Demo Flight 1\">demo flight C1</a><br/>(Dragon C101)\n",
      "</td>\n",
      "<td>\n",
      "</td>\n",
      "<td><a href=\"/wiki/Low_Earth_orbit\" title=\"Low Earth orbit\">LEO</a> (<a href=\"/wiki/International_Space_Station\" title=\"International Space Station\">ISS</a>)\n",
      "</td>\n",
      "<td><style data-mw-deduplicate=\"TemplateStyles:r1126788409\">.mw-parser-output .plainlist ol,.mw-parser-output .plainlist ul{line-height:inherit;list-style:none;margin:0;padding:0}.mw-parser-output .plainlist ol li,.mw-parser-output .plainlist ul li{margin-bottom:0}</style><div class=\"plainlist\">\n",
      "<ul><li><a href=\"/wiki/NASA\" title=\"NASA\">NASA</a> (<a href=\"/wiki/Commercial_Orbital_Transportation_Services\" title=\"Commercial Orbital Transportation Services\">COTS</a>)</li>\n",
      "<li><a href=\"/wiki/National_Reconnaissance_Office\" title=\"National Reconnaissance Office\">NRO</a></li></ul>\n",
      "</div>\n",
      "</td>\n",
      "<td class=\"table-success\" style=\"background: #9EFF9E; color:black; vertical-align: middle; text-align: center;\">Success<sup class=\"reference\" id=\"cite_ref-ns20110930_15-1\"><a href=\"#cite_note-ns20110930-15\"><span class=\"cite-bracket\">[</span>9<span class=\"cite-bracket\">]</span></a></sup>\n",
      "</td>\n",
      "<td class=\"table-failure\" style=\"background: #FFC7C7; color:black; vertical-align: middle; text-align: center;\">Failure<sup class=\"reference\" id=\"cite_ref-ns20110930_15-2\"><a href=\"#cite_note-ns20110930-15\"><span class=\"cite-bracket\">[</span>9<span class=\"cite-bracket\">]</span></a></sup><sup class=\"reference\" id=\"cite_ref-20\"><a href=\"#cite_note-20\"><span class=\"cite-bracket\">[</span>14<span class=\"cite-bracket\">]</span></a></sup><br/><small>(parachute)</small>\n",
      "</td></tr>\n",
      "<tr>\n",
      "<td colspan=\"9\">Maiden flight of <a class=\"mw-redirect\" href=\"/wiki/Dragon_capsule\" title=\"Dragon capsule\">Dragon capsule</a>, consisting of over 3 hours of testing thruster maneuvering and reentry.<sup class=\"reference\" id=\"cite_ref-spaceflightnow_Clark_unleashing_Dragon_21-0\"><a href=\"#cite_note-spaceflightnow_Clark_unleashing_Dragon-21\"><span class=\"cite-bracket\">[</span>15<span class=\"cite-bracket\">]</span></a></sup> Attempted to recover the first stage by parachuting it into the ocean, but it disintegrated upon reentry, before the parachutes were deployed.<sup class=\"reference\" id=\"cite_ref-parachute_18-1\"><a href=\"#cite_note-parachute-18\"><span class=\"cite-bracket\">[</span>12<span class=\"cite-bracket\">]</span></a></sup> <small>(<a href=\"#COTS_demo_missions\">more details below</a>)</small> It also included two <a href=\"/wiki/CubeSat\" title=\"CubeSat\">CubeSats</a>,<sup class=\"reference\" id=\"cite_ref-NRO_Taps_Boeing_for_Next_Batch_of_CubeSats_22-0\"><a href=\"#cite_note-NRO_Taps_Boeing_for_Next_Batch_of_CubeSats-22\"><span class=\"cite-bracket\">[</span>16<span class=\"cite-bracket\">]</span></a></sup> and a wheel of <a href=\"/wiki/Brou%C3%A8re\" title=\"Brouère\">Brouère</a> cheese.\n",
      "</td></tr>\n",
      "<tr>\n",
      "<th rowspan=\"2\" scope=\"row\" style=\"text-align:center;\">3\n",
      "</th>\n",
      "<td>22 May 2012,<br/>07:44<sup class=\"reference\" id=\"cite_ref-BBC_new_era_23-0\"><a href=\"#cite_note-BBC_new_era-23\"><span class=\"cite-bracket\">[</span>17<span class=\"cite-bracket\">]</span></a></sup>\n",
      "</td>\n",
      "<td><a href=\"/wiki/Falcon_9_v1.0\" title=\"Falcon 9 v1.0\">F9 v1.0</a><sup class=\"reference\" id=\"cite_ref-MuskMay2012_13-2\"><a href=\"#cite_note-MuskMay2012-13\"><span class=\"cite-bracket\">[</span>7<span class=\"cite-bracket\">]</span></a></sup><br/>B0005.1<sup class=\"reference\" id=\"cite_ref-block_numbers_14-2\"><a href=\"#cite_note-block_numbers-14\"><span class=\"cite-bracket\">[</span>8<span class=\"cite-bracket\">]</span></a></sup>\n",
      "</td>\n",
      "<td><a href=\"/wiki/Cape_Canaveral_Space_Force_Station\" title=\"Cape Canaveral Space Force Station\">CCAFS</a>,<br/><a href=\"/wiki/Cape_Canaveral_Space_Launch_Complex_40\" title=\"Cape Canaveral Space Launch Complex 40\">SLC-40</a>\n",
      "</td>\n",
      "<td><a href=\"/wiki/SpaceX_Dragon\" title=\"SpaceX Dragon\">Dragon</a> <a class=\"mw-redirect\" href=\"/wiki/Dragon_C2%2B\" title=\"Dragon C2+\">demo flight C2+</a><sup class=\"reference\" id=\"cite_ref-C2_24-0\"><a href=\"#cite_note-C2-24\"><span class=\"cite-bracket\">[</span>18<span class=\"cite-bracket\">]</span></a></sup><br/>(Dragon C102)\n",
      "</td>\n",
      "<td>525 kg (1,157 lb)<sup class=\"reference\" id=\"cite_ref-25\"><a href=\"#cite_note-25\"><span class=\"cite-bracket\">[</span>19<span class=\"cite-bracket\">]</span></a></sup>\n",
      "</td>\n",
      "<td><a href=\"/wiki/Low_Earth_orbit\" title=\"Low Earth orbit\">LEO</a> (<a href=\"/wiki/International_Space_Station\" title=\"International Space Station\">ISS</a>)\n",
      "</td>\n",
      "<td><a href=\"/wiki/NASA\" title=\"NASA\">NASA</a> (<a href=\"/wiki/Commercial_Orbital_Transportation_Services\" title=\"Commercial Orbital Transportation Services\">COTS</a>)\n",
      "</td>\n",
      "<td class=\"table-success\" style=\"background: #9EFF9E; color:black; vertical-align: middle; text-align: center;\">Success<sup class=\"reference\" id=\"cite_ref-26\"><a href=\"#cite_note-26\"><span class=\"cite-bracket\">[</span>20<span class=\"cite-bracket\">]</span></a></sup>\n",
      "</td>\n",
      "<td class=\"table-noAttempt\" style=\"background: #EEE; color:black; vertical-align: middle; white-space: nowrap; text-align: center;\">No attempt\n",
      "</td></tr>\n",
      "<tr>\n",
      "<td colspan=\"9\">Dragon spacecraft demonstrated a series of tests before it was allowed to approach the <a href=\"/wiki/International_Space_Station\" title=\"International Space Station\">International Space Station</a>. Two days later, it became the first commercial spacecraft to board the ISS.<sup class=\"reference\" id=\"cite_ref-BBC_new_era_23-1\"><a href=\"#cite_note-BBC_new_era-23\"><span class=\"cite-bracket\">[</span>17<span class=\"cite-bracket\">]</span></a></sup> <small>(<a href=\"#COTS_demo_missions\">more details below</a>)</small>\n",
      "</td></tr>\n",
      "<tr>\n",
      "<th rowspan=\"3\" scope=\"row\" style=\"text-align:center;\">4\n",
      "</th>\n",
      "<td rowspan=\"2\">8 October 2012,<br/>00:35<sup class=\"reference\" id=\"cite_ref-SFN_LLog_27-0\"><a href=\"#cite_note-SFN_LLog-27\"><span class=\"cite-bracket\">[</span>21<span class=\"cite-bracket\">]</span></a></sup>\n",
      "</td>\n",
      "<td rowspan=\"2\"><a href=\"/wiki/Falcon_9_v1.0\" title=\"Falcon 9 v1.0\">F9 v1.0</a><sup class=\"reference\" id=\"cite_ref-MuskMay2012_13-3\"><a href=\"#cite_note-MuskMay2012-13\"><span class=\"cite-bracket\">[</span>7<span class=\"cite-bracket\">]</span></a></sup><br/>B0006.1<sup class=\"reference\" id=\"cite_ref-block_numbers_14-3\"><a href=\"#cite_note-block_numbers-14\"><span class=\"cite-bracket\">[</span>8<span class=\"cite-bracket\">]</span></a></sup>\n",
      "</td>\n",
      "<td rowspan=\"2\"><a href=\"/wiki/Cape_Canaveral_Space_Force_Station\" title=\"Cape Canaveral Space Force Station\">CCAFS</a>,<br/><a href=\"/wiki/Cape_Canaveral_Space_Launch_Complex_40\" title=\"Cape Canaveral Space Launch Complex 40\">SLC-40</a>\n",
      "</td>\n",
      "<td><a href=\"/wiki/SpaceX_CRS-1\" title=\"SpaceX CRS-1\">SpaceX CRS-1</a><sup class=\"reference\" id=\"cite_ref-sxManifest20120925_28-0\"><a href=\"#cite_note-sxManifest20120925-28\"><span class=\"cite-bracket\">[</span>22<span class=\"cite-bracket\">]</span></a></sup><br/>(Dragon C103)\n",
      "</td>\n",
      "<td>4,700 kg (10,400 lb)\n",
      "</td>\n",
      "<td><a href=\"/wiki/Low_Earth_orbit\" title=\"Low Earth orbit\">LEO</a> (<a href=\"/wiki/International_Space_Station\" title=\"International Space Station\">ISS</a>)\n",
      "</td>\n",
      "<td><a href=\"/wiki/NASA\" title=\"NASA\">NASA</a> (<a href=\"/wiki/Commercial_Resupply_Services\" title=\"Commercial Resupply Services\">CRS</a>)\n",
      "</td>\n",
      "<td class=\"table-success\" style=\"background: #9EFF9E; color:black; vertical-align: middle; text-align: center;\">Success\n",
      "</td>\n",
      "<td rowspan=\"2\" style=\"background:#ececec; text-align:center;\"><span class=\"nowrap\">No attempt</span>\n",
      "</td></tr>\n",
      "<tr>\n",
      "<td><a href=\"/wiki/Orbcomm_(satellite)\" title=\"Orbcomm (satellite)\">Orbcomm-OG2</a><sup class=\"reference\" id=\"cite_ref-Orbcomm_29-0\"><a href=\"#cite_note-Orbcomm-29\"><span class=\"cite-bracket\">[</span>23<span class=\"cite-bracket\">]</span></a></sup>\n",
      "</td>\n",
      "<td>172 kg (379 lb)<sup class=\"reference\" id=\"cite_ref-gunter-og2_30-0\"><a href=\"#cite_note-gunter-og2-30\"><span class=\"cite-bracket\">[</span>24<span class=\"cite-bracket\">]</span></a></sup>\n",
      "</td>\n",
      "<td><a href=\"/wiki/Low_Earth_orbit\" title=\"Low Earth orbit\">LEO</a>\n",
      "</td>\n",
      "<td><a href=\"/wiki/Orbcomm\" title=\"Orbcomm\">Orbcomm</a>\n",
      "</td>\n",
      "<td class=\"table-partial\" style=\"background: #FFB; color:black; vertical-align: middle; text-align: center;\">Partial failure<sup class=\"reference\" id=\"cite_ref-nyt-20121030_31-0\"><a href=\"#cite_note-nyt-20121030-31\"><span class=\"cite-bracket\">[</span>25<span class=\"cite-bracket\">]</span></a></sup>\n",
      "</td></tr>\n",
      "<tr>\n",
      "<td colspan=\"9\">CRS-1 was successful, but the <a href=\"/wiki/Secondary_payload\" title=\"Secondary payload\">secondary payload</a> was inserted into an abnormally low orbit and subsequently lost. This was due to one of the nine <a href=\"/wiki/SpaceX_Merlin\" title=\"SpaceX Merlin\">Merlin engines</a> shutting down during the launch, and NASA declining a second reignition, as per <a href=\"/wiki/International_Space_Station\" title=\"International Space Station\">ISS</a> visiting vehicle safety rules, the primary payload owner is contractually allowed to decline a second reignition. NASA stated that this was because SpaceX could not guarantee a high enough likelihood of the second stage completing the second burn successfully which was required to avoid any risk of secondary payload's collision with the ISS.<sup class=\"reference\" id=\"cite_ref-OrbcommTotalLoss_32-0\"><a href=\"#cite_note-OrbcommTotalLoss-32\"><span class=\"cite-bracket\">[</span>26<span class=\"cite-bracket\">]</span></a></sup><sup class=\"reference\" id=\"cite_ref-sn20121011_33-0\"><a href=\"#cite_note-sn20121011-33\"><span class=\"cite-bracket\">[</span>27<span class=\"cite-bracket\">]</span></a></sup><sup class=\"reference\" id=\"cite_ref-34\"><a href=\"#cite_note-34\"><span class=\"cite-bracket\">[</span>28<span class=\"cite-bracket\">]</span></a></sup>\n",
      "</td></tr>\n",
      "<tr>\n",
      "<th rowspan=\"2\" scope=\"row\" style=\"text-align:center;\">5\n",
      "</th>\n",
      "<td>1 March 2013,<br/>15:10\n",
      "</td>\n",
      "<td><a href=\"/wiki/Falcon_9_v1.0\" title=\"Falcon 9 v1.0\">F9 v1.0</a><sup class=\"reference\" id=\"cite_ref-MuskMay2012_13-4\"><a href=\"#cite_note-MuskMay2012-13\"><span class=\"cite-bracket\">[</span>7<span class=\"cite-bracket\">]</span></a></sup><br/>B0007.1<sup class=\"reference\" id=\"cite_ref-block_numbers_14-4\"><a href=\"#cite_note-block_numbers-14\"><span class=\"cite-bracket\">[</span>8<span class=\"cite-bracket\">]</span></a></sup>\n",
      "</td>\n",
      "<td><a href=\"/wiki/Cape_Canaveral_Space_Force_Station\" title=\"Cape Canaveral Space Force Station\">CCAFS</a>,<br/><a href=\"/wiki/Cape_Canaveral_Space_Launch_Complex_40\" title=\"Cape Canaveral Space Launch Complex 40\">SLC-40</a>\n",
      "</td>\n",
      "<td><a href=\"/wiki/SpaceX_CRS-2\" title=\"SpaceX CRS-2\">SpaceX CRS-2</a><sup class=\"reference\" id=\"cite_ref-sxManifest20120925_28-1\"><a href=\"#cite_note-sxManifest20120925-28\"><span class=\"cite-bracket\">[</span>22<span class=\"cite-bracket\">]</span></a></sup><br/>(Dragon C104)\n",
      "</td>\n",
      "<td>4,877 kg (10,752 lb)\n",
      "</td>\n",
      "<td><a href=\"/wiki/Low_Earth_orbit\" title=\"Low Earth orbit\">LEO</a> (<a class=\"mw-redirect\" href=\"/wiki/ISS\" title=\"ISS\">ISS</a>)\n",
      "</td>\n",
      "<td><a href=\"/wiki/NASA\" title=\"NASA\">NASA</a> (<a href=\"/wiki/Commercial_Resupply_Services\" title=\"Commercial Resupply Services\">CRS</a>)\n",
      "</td>\n",
      "<td class=\"table-success\" style=\"background: #9EFF9E; color:black; vertical-align: middle; text-align: center;\">Success\n",
      "</td>\n",
      "<td class=\"table-noAttempt\" style=\"background: #EEE; color:black; vertical-align: middle; white-space: nowrap; text-align: center;\">No attempt\n",
      "</td></tr>\n",
      "<tr>\n",
      "<td colspan=\"9\">Last launch of the original Falcon 9 v1.0 <a href=\"/wiki/Launch_vehicle\" title=\"Launch vehicle\">launch vehicle</a>, first use of the unpressurized trunk section of Dragon.<sup class=\"reference\" id=\"cite_ref-sxf9_20110321_35-0\"><a href=\"#cite_note-sxf9_20110321-35\"><span class=\"cite-bracket\">[</span>29<span class=\"cite-bracket\">]</span></a></sup>\n",
      "</td></tr>\n",
      "<tr>\n",
      "<th rowspan=\"2\" scope=\"row\" style=\"text-align:center;\">6\n",
      "</th>\n",
      "<td>29 September 2013,<br/>16:00<sup class=\"reference\" id=\"cite_ref-pa20130930_36-0\"><a href=\"#cite_note-pa20130930-36\"><span class=\"cite-bracket\">[</span>30<span class=\"cite-bracket\">]</span></a></sup>\n",
      "</td>\n",
      "<td><a href=\"/wiki/Falcon_9_v1.1\" title=\"Falcon 9 v1.1\">F9 v1.1</a><sup class=\"reference\" id=\"cite_ref-MuskMay2012_13-5\"><a href=\"#cite_note-MuskMay2012-13\"><span class=\"cite-bracket\">[</span>7<span class=\"cite-bracket\">]</span></a></sup><br/>B1003<sup class=\"reference\" id=\"cite_ref-block_numbers_14-5\"><a href=\"#cite_note-block_numbers-14\"><span class=\"cite-bracket\">[</span>8<span class=\"cite-bracket\">]</span></a></sup>\n",
      "</td>\n",
      "<td><a class=\"mw-redirect\" href=\"/wiki/Vandenberg_Air_Force_Base\" title=\"Vandenberg Air Force Base\">VAFB</a>,<br/><a href=\"/wiki/Vandenberg_Space_Launch_Complex_4\" title=\"Vandenberg Space Launch Complex 4\">SLC-4E</a>\n",
      "</td>\n",
      "<td><a href=\"/wiki/CASSIOPE\" title=\"CASSIOPE\">CASSIOPE</a><sup class=\"reference\" id=\"cite_ref-sxManifest20120925_28-2\"><a href=\"#cite_note-sxManifest20120925-28\"><span class=\"cite-bracket\">[</span>22<span class=\"cite-bracket\">]</span></a></sup><sup class=\"reference\" id=\"cite_ref-CASSIOPE_MDA_37-0\"><a href=\"#cite_note-CASSIOPE_MDA-37\"><span class=\"cite-bracket\">[</span>31<span class=\"cite-bracket\">]</span></a></sup>\n",
      "</td>\n",
      "<td>500 kg (1,100 lb)\n",
      "</td>\n",
      "<td><a href=\"/wiki/Polar_orbit\" title=\"Polar orbit\">Polar orbit</a> <a href=\"/wiki/Low_Earth_orbit\" title=\"Low Earth orbit\">LEO</a>\n",
      "</td>\n",
      "<td><a href=\"/wiki/Maxar_Technologies\" title=\"Maxar Technologies\">MDA</a>\n",
      "</td>\n",
      "<td class=\"table-success\" style=\"background: #9EFF9E; color:black; vertical-align: middle; text-align: center;\">Success<sup class=\"reference\" id=\"cite_ref-pa20130930_36-1\"><a href=\"#cite_note-pa20130930-36\"><span class=\"cite-bracket\">[</span>30<span class=\"cite-bracket\">]</span></a></sup>\n",
      "</td>\n",
      "<td class=\"table-no2\" style=\"background: #FFE3E3; color: black; vertical-align: middle; text-align: center;\">Uncontrolled<br/><small>(ocean)</small><sup class=\"reference\" id=\"cite_ref-ocean_landing_38-0\"><a href=\"#cite_note-ocean_landing-38\"><span class=\"cite-bracket\">[</span>d<span class=\"cite-bracket\">]</span></a></sup>\n",
      "</td></tr>\n",
      "<tr>\n",
      "<td colspan=\"9\">First commercial mission with a private customer, first launch from Vandenberg, and demonstration flight of Falcon 9 v1.1 with an improved 13-tonne to LEO capacity.<sup class=\"reference\" id=\"cite_ref-sxf9_20110321_35-1\"><a href=\"#cite_note-sxf9_20110321-35\"><span class=\"cite-bracket\">[</span>29<span class=\"cite-bracket\">]</span></a></sup> After separation from the second stage carrying Canadian commercial and scientific satellites, the first stage booster performed a controlled reentry,<sup class=\"reference\" id=\"cite_ref-39\"><a href=\"#cite_note-39\"><span class=\"cite-bracket\">[</span>32<span class=\"cite-bracket\">]</span></a></sup> and an <a href=\"/wiki/Falcon_9_first-stage_landing_tests\" title=\"Falcon 9 first-stage landing tests\">ocean touchdown test</a> for the first time. This provided good test data, even though the booster started rolling as it neared the ocean, leading to the shutdown of the central engine as the roll depleted it of fuel, resulting in a hard impact with the ocean.<sup class=\"reference\" id=\"cite_ref-pa20130930_36-2\"><a href=\"#cite_note-pa20130930-36\"><span class=\"cite-bracket\">[</span>30<span class=\"cite-bracket\">]</span></a></sup> This was the first known attempt of a rocket engine being lit to perform a supersonic retro propulsion, and allowed SpaceX to enter a public-private partnership with <a href=\"/wiki/NASA\" title=\"NASA\">NASA</a> and its Mars entry, descent, and landing technologies research projects.<sup class=\"reference\" id=\"cite_ref-40\"><a href=\"#cite_note-40\"><span class=\"cite-bracket\">[</span>33<span class=\"cite-bracket\">]</span></a></sup> <small>(<a href=\"#Maiden_flight_of_v1.1\">more details below</a>)</small>\n",
      "</td></tr>\n",
      "<tr>\n",
      "<th rowspan=\"2\" scope=\"row\" style=\"text-align:center;\">7\n",
      "</th>\n",
      "<td>3 December 2013,<br/>22:41<sup class=\"reference\" id=\"cite_ref-sfn_wwls20130624_41-0\"><a href=\"#cite_note-sfn_wwls20130624-41\"><span class=\"cite-bracket\">[</span>34<span class=\"cite-bracket\">]</span></a></sup>\n",
      "</td>\n",
      "<td><a href=\"/wiki/Falcon_9_v1.1\" title=\"Falcon 9 v1.1\">F9 v1.1</a><br/>B1004\n",
      "</td>\n",
      "<td><a href=\"/wiki/Cape_Canaveral_Space_Force_Station\" title=\"Cape Canaveral Space Force Station\">CCAFS</a>,<br/><a href=\"/wiki/Cape_Canaveral_Space_Launch_Complex_40\" title=\"Cape Canaveral Space Launch Complex 40\">SLC-40</a>\n",
      "</td>\n",
      "<td><a href=\"/wiki/SES-8\" title=\"SES-8\">SES-8</a><sup class=\"reference\" id=\"cite_ref-sxManifest20120925_28-3\"><a href=\"#cite_note-sxManifest20120925-28\"><span class=\"cite-bracket\">[</span>22<span class=\"cite-bracket\">]</span></a></sup><sup class=\"reference\" id=\"cite_ref-spx-pr_42-0\"><a href=\"#cite_note-spx-pr-42\"><span class=\"cite-bracket\">[</span>35<span class=\"cite-bracket\">]</span></a></sup><sup class=\"reference\" id=\"cite_ref-aw20110323_43-0\"><a href=\"#cite_note-aw20110323-43\"><span class=\"cite-bracket\">[</span>36<span class=\"cite-bracket\">]</span></a></sup>\n",
      "</td>\n",
      "<td>3,170 kg (6,990 lb)\n",
      "</td>\n",
      "<td><a href=\"/wiki/Geostationary_transfer_orbit\" title=\"Geostationary transfer orbit\">GTO</a>\n",
      "</td>\n",
      "<td><a class=\"mw-redirect\" href=\"/wiki/SES_S.A.\" title=\"SES S.A.\">SES</a>\n",
      "</td>\n",
      "<td class=\"table-success\" style=\"background: #9EFF9E; color:black; vertical-align: middle; text-align: center;\">Success<sup class=\"reference\" id=\"cite_ref-SNMissionStatus7_44-0\"><a href=\"#cite_note-SNMissionStatus7-44\"><span class=\"cite-bracket\">[</span>37<span class=\"cite-bracket\">]</span></a></sup>\n",
      "</td>\n",
      "<td class=\"table-noAttempt\" style=\"background: #EEE; color:black; vertical-align: middle; white-space: nowrap; text-align: center;\">No attempt<br/><sup class=\"reference\" id=\"cite_ref-sf10120131203_45-0\"><a href=\"#cite_note-sf10120131203-45\"><span class=\"cite-bracket\">[</span>38<span class=\"cite-bracket\">]</span></a></sup>\n",
      "</td></tr>\n",
      "<tr>\n",
      "<td colspan=\"9\">First <a href=\"/wiki/Geostationary_transfer_orbit\" title=\"Geostationary transfer orbit\">Geostationary transfer orbit</a> (GTO) launch for Falcon 9,<sup class=\"reference\" id=\"cite_ref-spx-pr_42-1\"><a href=\"#cite_note-spx-pr-42\"><span class=\"cite-bracket\">[</span>35<span class=\"cite-bracket\">]</span></a></sup> and first successful reignition of the second stage.<sup class=\"reference\" id=\"cite_ref-46\"><a href=\"#cite_note-46\"><span class=\"cite-bracket\">[</span>39<span class=\"cite-bracket\">]</span></a></sup> SES-8 was inserted into a <a href=\"/wiki/Geostationary_transfer_orbit\" title=\"Geostationary transfer orbit\">Super-Synchronous Transfer Orbit</a> of 79,341 km (49,300 mi) in apogee with an <a href=\"/wiki/Orbital_inclination\" title=\"Orbital inclination\">inclination</a> of 20.55° to the <a href=\"/wiki/Equator\" title=\"Equator\">equator</a>.\n",
      "</td></tr></tbody></table>\n"
     ]
    }
   ],
   "source": [
    "# Let's print the third table and check its content\n",
    "first_launch_table = html_tables[2]\n",
    "print(first_launch_table)"
   ]
  },
  {
   "cell_type": "markdown",
   "id": "8388e368-e165-455f-bacc-530941e194a5",
   "metadata": {},
   "source": [
    "You should able to see the columns names embedded in the table header elements `<th>` as follows:\n"
   ]
  },
  {
   "cell_type": "markdown",
   "id": "d073eea9-8e25-42cb-ad49-18b08e18d5fd",
   "metadata": {},
   "source": [
    "```\n",
    "<tr>\n",
    "<th scope=\"col\">Flight No.\n",
    "</th>\n",
    "<th scope=\"col\">Date and<br/>time (<a href=\"/wiki/Coordinated_Universal_Time\" title=\"Coordinated Universal Time\">UTC</a>)\n",
    "</th>\n",
    "<th scope=\"col\"><a href=\"/wiki/List_of_Falcon_9_first-stage_boosters\" title=\"List of Falcon 9 first-stage boosters\">Version,<br/>Booster</a> <sup class=\"reference\" id=\"cite_ref-booster_11-0\"><a href=\"#cite_note-booster-11\">[b]</a></sup>\n",
    "</th>\n",
    "<th scope=\"col\">Launch site\n",
    "</th>\n",
    "<th scope=\"col\">Payload<sup class=\"reference\" id=\"cite_ref-Dragon_12-0\"><a href=\"#cite_note-Dragon-12\">[c]</a></sup>\n",
    "</th>\n",
    "<th scope=\"col\">Payload mass\n",
    "</th>\n",
    "<th scope=\"col\">Orbit\n",
    "</th>\n",
    "<th scope=\"col\">Customer\n",
    "</th>\n",
    "<th scope=\"col\">Launch<br/>outcome\n",
    "</th>\n",
    "<th scope=\"col\"><a href=\"/wiki/Falcon_9_first-stage_landing_tests\" title=\"Falcon 9 first-stage landing tests\">Booster<br/>landing</a>\n",
    "</th></tr>\n",
    "```\n"
   ]
  },
  {
   "cell_type": "markdown",
   "id": "bf298b89-5d71-453b-b303-08b6f1f685fd",
   "metadata": {},
   "source": [
    "Next, we just need to iterate through the `<th>` elements and apply the provided `extract_column_from_header()` to extract column name one by one\n"
   ]
  },
  {
   "cell_type": "code",
   "execution_count": 12,
   "id": "22ebb407-3d02-4768-8fc8-10791bc45f14",
   "metadata": {},
   "outputs": [],
   "source": [
    "column_names = []\n",
    "\n",
    "# Apply find_all() function with `th` element on first_launch_table\n",
    "header_cells = first_launch_table.find_all('th')\n",
    "# Iterate each th element and apply the provided extract_column_from_header() to get a column name\n",
    "for header_cell in header_cells:\n",
    "    # Call the extract_column_from_header() function with the header_cell as an argument\n",
    "    name = extract_column_from_header(header_cell)\n",
    "\n",
    "# Append the Non-empty column name (`if name is not None and len(name) > 0`) into a list called column_names\n",
    "    if name is not None and len(name) > 0:\n",
    "            column_names.append(name)\n",
    "\n"
   ]
  },
  {
   "cell_type": "markdown",
   "id": "f5b84e32-d802-4169-a06f-c355d1768cfe",
   "metadata": {},
   "source": [
    "Check the extracted column names\n"
   ]
  },
  {
   "cell_type": "code",
   "execution_count": 13,
   "id": "4c44f702-d92a-4be8-8ecd-ed4f8a2f12cb",
   "metadata": {},
   "outputs": [
    {
     "name": "stdout",
     "output_type": "stream",
     "text": [
      "['Flight No.', 'Date and time ( )', 'Launch site', 'Payload', 'Payload mass', 'Orbit', 'Customer', 'Launch outcome']\n"
     ]
    }
   ],
   "source": [
    "print(column_names)"
   ]
  },
  {
   "cell_type": "markdown",
   "id": "db8ec83a-baed-4815-b798-5ab6ee7239bd",
   "metadata": {},
   "source": [
    "## TASK 3: Create a data frame by parsing the launch HTML tables\n"
   ]
  },
  {
   "cell_type": "markdown",
   "id": "029cb61d-767d-4e51-8d0d-7bc295d0db11",
   "metadata": {},
   "source": [
    "We will create an empty dictionary with keys from the extracted column names in the previous task. Later, this dictionary will be converted into a Pandas dataframe\n"
   ]
  },
  {
   "cell_type": "code",
   "execution_count": 14,
   "id": "7e996185-1120-4d35-a25e-c79d86ab9cbe",
   "metadata": {},
   "outputs": [],
   "source": [
    "launch_dict= dict.fromkeys(column_names)\n",
    "\n",
    "# Remove an irrelvant column\n",
    "del launch_dict['Date and time ( )']\n",
    "\n",
    "# Let's initial the launch_dict with each value to be an empty list\n",
    "launch_dict['Flight No.'] = []\n",
    "launch_dict['Launch site'] = []\n",
    "launch_dict['Payload'] = []\n",
    "launch_dict['Payload mass'] = []\n",
    "launch_dict['Orbit'] = []\n",
    "launch_dict['Customer'] = []\n",
    "launch_dict['Launch outcome'] = []\n",
    "# Added some new columns\n",
    "launch_dict['Version Booster']=[]\n",
    "launch_dict['Booster landing']=[]\n",
    "launch_dict['Date']=[]\n",
    "launch_dict['Time']=[]\n"
   ]
  },
  {
   "cell_type": "markdown",
   "id": "0258b3a8-8a82-457c-922d-6aff5e382f90",
   "metadata": {},
   "source": [
    "Next, we just need to fill up the `launch_dict` with launch records extracted from table rows.\n"
   ]
  },
  {
   "cell_type": "markdown",
   "id": "6a86521c-24a7-4f03-806b-3f175f82c590",
   "metadata": {},
   "source": [
    "Usually, HTML tables in Wiki pages are likely to contain unexpected annotations and other types of noises, such as reference links `B0004.1[8]`, missing values `N/A [e]`, inconsistent formatting, etc.\n"
   ]
  },
  {
   "cell_type": "markdown",
   "id": "2a6aac8d-277a-46c6-9723-c0941be84ff0",
   "metadata": {},
   "source": [
    "To simplify the parsing process, we have provided an incomplete code snippet below to help you to fill up the `launch_dict`. Please complete the following code snippet with TODOs or you can choose to write your own logic to parse all launch tables:\n"
   ]
  },
  {
   "cell_type": "code",
   "execution_count": 19,
   "id": "be1f1b04-a253-4349-bf50-137566141da1",
   "metadata": {},
   "outputs": [
    {
     "name": "stdout",
     "output_type": "stream",
     "text": [
      "Flight: 1, Date: 4 June 2010, Time: 18:45, Booster: F9 v1.07B0003.18, Site: CCAFS, Payload: Dragon Spacecraft Qualification Unit, Mass: 0, Orbit: LEO, Customer: SpaceX, Outcome: Success, Landing: Failure\n",
      "Flight: 2, Date: 8 December 2010, Time: 15:43, Booster: F9 v1.07B0004.18, Site: CCAFS, Payload: Dragon, Mass: 0, Orbit: LEO, Customer: NASA, Outcome: Success, Landing: Failure\n",
      "Flight: 3, Date: 22 May 2012, Time: 07:44, Booster: F9 v1.07B0005.18, Site: CCAFS, Payload: Dragon, Mass: 525 kg, Orbit: LEO, Customer: NASA, Outcome: Success, Landing: No attempt\n",
      "\n",
      "Flight: 4, Date: 8 October 2012, Time: 00:35, Booster: F9 v1.07B0006.18, Site: CCAFS, Payload: SpaceX CRS-1, Mass: 4,700 kg, Orbit: LEO, Customer: NASA, Outcome: Success, Landing: No attempt\n",
      "Flight: 5, Date: 1 March 2013, Time: 15:10, Booster: F9 v1.07B0007.18, Site: CCAFS, Payload: SpaceX CRS-2, Mass: 4,877 kg, Orbit: LEO, Customer: NASA, Outcome: Success, Landing: No attempt\n",
      "\n",
      "Flight: 6, Date: 29 September 2013, Time: 16:00, Booster: F9 v1.17B10038, Site: VAFB, Payload: CASSIOPE, Mass: 500 kg, Orbit: Polar orbit, Customer: MDA, Outcome: Success, Landing: Uncontrolled\n",
      "Flight: 7, Date: 3 December 2013, Time: 22:41, Booster: F9 v1.1, Site: CCAFS, Payload: SES-8, Mass: 3,170 kg, Orbit: GTO, Customer: SES, Outcome: Success, Landing: No attempt\n",
      "Flight: 8, Date: 6 January 2014, Time: 22:06, Booster: F9 v1.1, Site: CCAFS, Payload: Thaicom 6, Mass: 3,325 kg, Orbit: GTO, Customer: Thaicom, Outcome: Success, Landing: No attempt\n",
      "Flight: 9, Date: 18 April 2014, Time: 19:25, Booster: F9 v1.1, Site: Cape Canaveral, Payload: SpaceX CRS-3, Mass: 2,296 kg, Orbit: LEO, Customer: NASA, Outcome: Success, Landing: Controlled\n",
      "Flight: 10, Date: 14 July 2014, Time: 15:15, Booster: F9 v1.1, Site: Cape Canaveral, Payload: Orbcomm-OG2, Mass: 1,316 kg, Orbit: LEO, Customer: Orbcomm, Outcome: Success, Landing: Controlled\n",
      "Flight: 11, Date: 5 August 2014, Time: 08:00, Booster: F9 v1.1, Site: Cape Canaveral, Payload: AsiaSat 8, Mass: 4,535 kg, Orbit: GTO, Customer: AsiaSat, Outcome: Success, Landing: No attempt\n",
      "Flight: 12, Date: 7 September 2014, Time: 05:00, Booster: F9 v1.1[, Site: Cape Canaveral, Payload: AsiaSat 6, Mass: 4,428 kg, Orbit: GTO, Customer: AsiaSat, Outcome: Success, Landing: No attempt\n",
      "\n",
      "Flight: 13, Date: 21 September 2014, Time: 05:52, Booster: F9 v1.1[, Site: Cape Canaveral, Payload: SpaceX CRS-4, Mass: 2,216 kg, Orbit: LEO, Customer: NASA, Outcome: Success, Landing: Uncontrolled\n",
      "Flight: 14, Date: 10 January 2015, Time: 09:47, Booster: F9 v1.1[, Site: Cape Canaveral, Payload: SpaceX CRS-5, Mass: 2,395 kg, Orbit: LEO, Customer: NASA, Outcome: Success, Landing: Failure \n",
      "Flight: 15, Date: 11 February 2015, Time: 23:03, Booster: F9 v1.1[, Site: Cape Canaveral, Payload: DSCOVR, Mass: 570 kg, Orbit: HEO, Customer: USAF, Outcome: Success, Landing: Controlled\n",
      "Flight: 16, Date: 2 March 2015, Time: 03:50, Booster: F9 v1.1[, Site: Cape Canaveral, Payload: ABS-3A, Mass: 4,159 kg, Orbit: GTO, Customer: ABS, Outcome: Success, Landing: No attempt\n",
      "Flight: 17, Date: 14 April 2015, Time: 20:10, Booster: F9 v1.1[, Site: Cape Canaveral, Payload: SpaceX CRS-6, Mass: 1,898 kg, Orbit: LEO, Customer: NASA, Outcome: Success, Landing: Failure\n",
      "Flight: 18, Date: 27 April 2015, Time: 23:03, Booster: F9 v1.1[, Site: Cape Canaveral, Payload: TürkmenÄlem 52°E / MonacoSAT, Mass: 4,707 kg, Orbit: GTO, Customer: None, Outcome: Success, Landing: No attempt\n",
      "Flight: 19, Date: 28 June 2015, Time: 14:21, Booster: F9 v1.1[, Site: Cape Canaveral, Payload: SpaceX CRS-7, Mass: 1,952 kg, Orbit: LEO, Customer: NASA, Outcome: Failure, Landing: Precluded\n",
      "Flight: 20, Date: 22 December 2015, Time: 01:29, Booster: F9 FT[, Site: Cape Canaveral, Payload: Orbcomm-OG2, Mass: 2,034 kg, Orbit: LEO, Customer: Orbcomm, Outcome: Success, Landing: Success\n",
      "Flight: 21, Date: 17 January 2016, Time: 18:42, Booster: F9 v1.1[, Site: VAFB, Payload: Jason-3, Mass: 553 kg, Orbit: LEO, Customer: NASA, Outcome: Success, Landing: Failure\n",
      "Flight: 22, Date: 4 March 2016, Time: 23:35, Booster: F9 FT[, Site: Cape Canaveral, Payload: SES-9, Mass: 5,271 kg, Orbit: GTO, Customer: SES, Outcome: Success, Landing: Failure\n",
      "Flight: 23, Date: 8 April 2016, Time: 20:43, Booster: F9 FT[, Site: Cape Canaveral, Payload: SpaceX CRS-8, Mass: 3,136 kg, Orbit: LEO, Customer: NASA, Outcome: Success, Landing: Success\n",
      "Flight: 24, Date: 6 May 2016, Time: 05:21, Booster: F9 FT[, Site: Cape Canaveral, Payload: JCSAT-14, Mass: 4,696 kg, Orbit: GTO, Customer: SKY Perfect JSAT Group, Outcome: Success, Landing: Success\n",
      "Flight: 25, Date: 27 May 2016, Time: 21:39, Booster: F9 FT[, Site: Cape Canaveral, Payload: Thaicom 8, Mass: 3,100 kg, Orbit: GTO, Customer: Thaicom, Outcome: Success, Landing: Success\n",
      "Flight: 26, Date: 15 June 2016, Time: 14:29, Booster: F9 FT[, Site: Cape Canaveral, Payload: ABS-2A, Mass: 3,600 kg, Orbit: GTO, Customer: ABS, Outcome: Success, Landing: Failure\n",
      "Flight: 27, Date: 18 July 2016, Time: 04:45, Booster: F9 FT[, Site: Cape Canaveral, Payload: SpaceX CRS-9, Mass: 2,257 kg, Orbit: LEO, Customer: NASA, Outcome: Success, Landing: Success\n",
      "Flight: 28, Date: 14 August 2016, Time: 05:26, Booster: F9 FT[, Site: Cape Canaveral, Payload: JCSAT-16, Mass: 4,600 kg, Orbit: GTO, Customer: SKY Perfect JSAT Group, Outcome: Success, Landing: Success\n",
      "Flight: 29, Date: 14 January 2017, Time: 17:54, Booster: F9 FT[, Site: VAFB, Payload: Iridium NEXT, Mass: 9,600 kg, Orbit: Polar, Customer: Iridium Communications, Outcome: Success, Landing: Success\n",
      "Flight: 30, Date: 19 February 2017, Time: 14:39, Booster: F9 FT[, Site: KSC, Payload: SpaceX CRS-10, Mass: 2,490 kg, Orbit: LEO, Customer: NASA, Outcome: Success, Landing: Success\n",
      "Flight: 31, Date: 16 March 2017, Time: 06:00, Booster: F9 FT[, Site: KSC, Payload: EchoStar 23, Mass: 5,600 kg, Orbit: GTO, Customer: EchoStar, Outcome: Success, Landing: No attempt\n",
      "Flight: 32, Date: 30 March 2017, Time: 22:27, Booster: F9 FT♺[, Site: KSC, Payload: SES-10, Mass: 5,300 kg, Orbit: GTO, Customer: SES, Outcome: Success, Landing: Success\n",
      "Flight: 33, Date: 1 May 2017, Time: 11:15, Booster: F9 FT[, Site: KSC, Payload: NROL-76, Mass: C, Orbit: LEO, Customer: NRO, Outcome: Success, Landing: Success\n",
      "Flight: 34, Date: 15 May 2017, Time: 23:21, Booster: F9 FT[, Site: KSC, Payload: Inmarsat-5 F4, Mass: 6,070 kg, Orbit: GTO, Customer: Inmarsat, Outcome: Success, Landing: No attempt\n",
      "Flight: 35, Date: 3 June 2017, Time: 21:07, Booster: F9 FT[, Site: KSC, Payload: SpaceX CRS-11, Mass: 2,708 kg, Orbit: LEO, Customer: NASA, Outcome: Success, Landing: Success\n",
      "Flight: 36, Date: 23 June 2017, Time: 19:10, Booster: F9 FTB1029.2195, Site: KSC, Payload: BulgariaSat-1, Mass: 3,669 kg, Orbit: GTO, Customer: Bulsatcom, Outcome: Success, Landing: Success\n",
      "Flight: 37, Date: 25 June 2017, Time: 20:25, Booster: F9 FT[, Site: VAFB, Payload: Iridium NEXT, Mass: 9,600 kg, Orbit: LEO, Customer: Iridium Communications, Outcome: Success, Landing: Success\n",
      "Flight: 38, Date: 5 July 2017, Time: 23:38, Booster: F9 FT[, Site: KSC, Payload: Intelsat 35e, Mass: 6,761 kg, Orbit: GTO, Customer: Intelsat, Outcome: Success, Landing: No attempt\n",
      "Flight: 39, Date: 14 August 2017, Time: 16:31, Booster: F9 B4[, Site: KSC, Payload: SpaceX CRS-12, Mass: 3,310 kg, Orbit: LEO, Customer: NASA, Outcome: Success, Landing: Success\n",
      "Flight: 40, Date: 24 August 2017, Time: 18:51, Booster: F9 FT[, Site: VAFB, Payload: Formosat-5, Mass: 475 kg, Orbit: SSO, Customer: NSPO, Outcome: Success, Landing: Success\n",
      "Flight: 41, Date: 7 September 2017, Time: 14:00, Booster: F9 B4[, Site: KSC, Payload: Boeing X-37B, Mass: 4,990 kg, Orbit: LEO, Customer: USAF, Outcome: Success, Landing: Success\n",
      "Flight: 42, Date: 9 October 2017, Time: 12:37, Booster: F9 B4[, Site: VAFB, Payload: Iridium NEXT, Mass: 9,600 kg, Orbit: Polar, Customer: Iridium Communications, Outcome: Success, Landing: Success\n",
      "Flight: 43, Date: 11 October 2017, Time: 22:53:00, Booster: F9 FTB1031.2220, Site: KSC, Payload: SES-11, Mass: 5,200 kg, Orbit: GTO, Customer: SES S.A., Outcome: Success, Landing: Success\n",
      "Flight: 44, Date: 30 October 2017, Time: 19:34, Booster: F9 B4[, Site: KSC, Payload: Koreasat 5A, Mass: 3,500 kg, Orbit: GTO, Customer: KT Corporation, Outcome: Success, Landing: Success\n",
      "Flight: 45, Date: 15 December 2017, Time: 15:36, Booster: F9 FTB1035.2227, Site: Cape Canaveral, Payload: SpaceX CRS-13, Mass: 2,205 kg, Orbit: LEO, Customer: NASA, Outcome: Success, Landing: Success\n",
      "Flight: 46, Date: 23 December 2017, Time: 01:27, Booster: F9 FTB1036.2227, Site: VAFB, Payload: Iridium NEXT, Mass: 9,600 kg, Orbit: Polar, Customer: Iridium Communications, Outcome: Success, Landing: Controlled\n",
      "Flight: 47, Date: 8 January 2018, Time: 01:00, Booster: F9 B4[, Site: CCAFS, Payload: Zuma, Mass: C, Orbit: LEO, Customer: Northrop Grumman, Outcome: Success, Landing: Success\n",
      "Flight: 48, Date: 31 January 2018, Time: 21:25, Booster: F9 FTB1032.2245, Site: CCAFS, Payload: GovSat-1, Mass: 4,230 kg, Orbit: GTO, Customer: SES, Outcome: Success, Landing: Controlled\n",
      "Flight: 49, Date: 22 February 2018, Time: 14:17, Booster: F9 FTB1038.2268, Site: VAFB, Payload: Paz, Mass: 2,150 kg, Orbit: SSO, Customer: Hisdesat, Outcome: Success, Landing: No attempt\n",
      "Flight: 50, Date: 6 March 2018, Time: 05:33, Booster: F9 B4[, Site: CCAFS, Payload: Hispasat 30W-6, Mass: 6,092 kg, Orbit: GTO, Customer: Hispasat, Outcome: Success, Landing: No attempt\n",
      "Flight: 51, Date: 30 March 2018, Time: 14:14, Booster: F9 B4B1041.2268, Site: VAFB, Payload: Iridium NEXT, Mass: 9,600 kg, Orbit: Polar, Customer: Iridium Communications, Outcome: Success, Landing: No attempt\n",
      "Flight: 52, Date: 2 April 2018, Time: 20:30, Booster: F9 B4B1039.2292, Site: CCAFS, Payload: SpaceX CRS-14, Mass: 2,647 kg, Orbit: LEO, Customer: NASA, Outcome: Success, Landing: No attempt\n",
      "Flight: 53, Date: 18 April 2018, Time: 22:51, Booster: F9 B4[, Site: CCAFS, Payload: Transiting Exoplanet Survey Satellite, Mass: 362 kg, Orbit: HEO, Customer: NASA, Outcome: Success, Landing: Success\n",
      "Flight: 54, Date: 11 May 2018, Time: 20:14, Booster: F9 B5311B1046.1268, Site: KSC, Payload: Bangabandhu-1, Mass: 3,600 kg, Orbit: GTO, Customer: Thales-Alenia, Outcome: Success, Landing: Success\n",
      "Flight: 55, Date: 22 May 2018, Time: 19:47, Booster: F9 B4B1043.2322, Site: VAFB, Payload: Iridium NEXT, Mass: 6,460 kg, Orbit: Polar, Customer: Iridium Communications, Outcome: Success, Landing: No attempt\n",
      "Flight: 56, Date: 4 June 2018, Time: 04:45, Booster: F9 B4B1040.2268, Site: CCAFS, Payload: SES-12, Mass: 5,384 kg, Orbit: GTO, Customer: SES, Outcome: Success, Landing: No attempt\n",
      "Flight: 57, Date: 29 June 2018, Time: 09:42, Booster: F9 B4B1045.2336, Site: CCAFS, Payload: SpaceX CRS-15, Mass: 2,697 kg, Orbit: LEO, Customer: NASA, Outcome: Success, Landing: No attempt\n",
      "Flight: 58, Date: 22 July 2018, Time: 05:50, Booster: F9 B5, Site: CCAFS, Payload: Telstar 19V, Mass: 7,075 kg, Orbit: GTO, Customer: Telesat, Outcome: Success, Landing: Success\n",
      "Flight: 59, Date: 25 July 2018, Time: 11:39, Booster: F9 B5349B1048[, Site: VAFB, Payload: Iridium NEXT, Mass: 9,600 kg, Orbit: Polar, Customer: Iridium Communications, Outcome: Success, Landing: Success\n",
      "Flight: 60, Date: 7 August 2018, Time: 05:18, Booster: F9 B5B1046.2354, Site: CCAFS, Payload: Merah Putih, Mass: 5,800 kg, Orbit: GTO, Customer: Telkom Indonesia, Outcome: Success, Landing: Success\n",
      "Flight: 61, Date: 10 September 2018, Time: 04:45, Booster: F9 B5[, Site: CCAFS, Payload: Telstar 18V, Mass: 7,060 kg, Orbit: GTO, Customer: Telesat, Outcome: Success, Landing: Success\n",
      "Flight: 62, Date: 8 October 2018, Time: 02:22, Booster: F9 B5B1048.2364, Site: VAFB, Payload: SAOCOM 1A, Mass: 3,000 kg, Orbit: SSO, Customer: CONAE, Outcome: Success, Landing: Success\n",
      "Flight: 63, Date: 15 November 2018, Time: 20:46, Booster: F9 B5B1047.2268, Site: KSC, Payload: Es'hail 2, Mass: 5,300 kg, Orbit: GTO, Customer: Es'hailSat, Outcome: Success, Landing: Success\n",
      "Flight: 64, Date: 3 December 2018, Time: 18:34:05, Booster: F9 B5B1046.3268, Site: VAFB, Payload: SSO-A, Mass: ~4,000 kg, Orbit: SSO, Customer: Spaceflight Industries, Outcome: Success, Landing: Success\n",
      "Flight: 65, Date: 5 December 2018, Time: 18:16, Booster: F9 B5[, Site: CCAFS, Payload: SpaceX CRS-16, Mass: 2,500 kg, Orbit: LEO, Customer: NASA, Outcome: Success, Landing: Failure\n",
      "Flight: 66, Date: 23 December 2018, Time: 13:51, Booster: F9 B5[, Site: CCAFS, Payload: GPS III, Mass: 4,400 kg, Orbit: MEO, Customer: USAF, Outcome: Success, Landing: No attempt\n",
      "Flight: 67, Date: 11 January 2019, Time: 15:31, Booster: F9 B5B1049.2397, Site: VAFB, Payload: Iridium NEXT, Mass: 9,600 kg, Orbit: Polar, Customer: Iridium Communications, Outcome: Success, Landing: Success\n",
      "Flight: 68, Date: 22 February 2019, Time: 01:45, Booster: F9 B5B1048.3399, Site: CCAFS, Payload: Nusantara Satu, Mass: 4,850 kg, Orbit: GTO, Customer: PSN, Outcome: Success, Landing: Success\n",
      "Flight: 69, Date: 2 March 2019, Time: 07:49, Booster: F9 B5[]413, Site: KSC, Payload: Crew Dragon Demo-1, Mass: 12,055 kg, Orbit: LEO, Customer: NASA, Outcome: Success, Landing: Success\n",
      "Flight: 70, Date: 4 May 2019, Time: 06:48, Booster: F9 B5[, Site: CCAFS, Payload: SpaceX CRS-17, Mass: 2,495 kg, Orbit: LEO, Customer: NASA, Outcome: Success, Landing: Success\n",
      "Flight: 71, Date: 24 May 2019, Time: 02:30, Booster: F9 B5B1049.3434, Site: CCAFS, Payload: Starlink, Mass: 13,620 kg, Orbit: LEO, Customer: SpaceX, Outcome: Success, Landing: Success\n",
      "Flight: 72, Date: 12 June 2019, Time: 14:17, Booster: F9 B5B1051.2420, Site: VAFB, Payload: RADARSAT Constellation, Mass: 4,200 kg, Orbit: SSO, Customer: Canadian Space Agency, Outcome: Success, Landing: Success\n",
      "Flight: 73, Date: 25 July 2019, Time: 22:01, Booster: F9 B5B1056.2465, Site: CCAFS, Payload: SpaceX CRS-18, Mass: 2,268 kg, Orbit: LEO, Customer: NASA, Outcome: Success, Landing: Success\n",
      "Flight: 74, Date: 6 August 2019, Time: 23:23, Booster: F9 B5B1047.3472, Site: CCAFS, Payload: AMOS-17, Mass: 6,500 kg, Orbit: GTO, Customer: Spacecom, Outcome: Success, Landing: No attempt\n",
      "Flight: 75, Date: 11 November 2019, Time: 14:56, Booster: F9 B5, Site: CCAFS, Payload: Starlink, Mass: 15,600 kg, Orbit: LEO, Customer: SpaceX, Outcome: Success, Landing: Success\n",
      "Flight: 76, Date: 5 December 2019, Time: 17:29, Booster: F9 B5[, Site: CCAFS, Payload: SpaceX CRS-19, Mass: 2,617 kg, Orbit: LEO, Customer: NASA, Outcome: Success, Landing: Success\n",
      "Flight: 77, Date: 17 December 2019, Time: 00:10, Booster: F9 B5B1056.3482, Site: CCAFS, Payload: JCSat-18, Mass: 6,956 kg, Orbit: GTO, Customer: Sky Perfect JSAT, Outcome: Success, Landing: Success\n",
      "Flight: 78, Date: 7 January 2020, Time: 02:19:21, Booster: F9 B5, Site: CCAFS, Payload: Starlink, Mass: 15,600 kg, Orbit: LEO, Customer: SpaceX, Outcome: Success, Landing: Success\n",
      "Flight: 79, Date: 19 January 2020, Time: 15:30, Booster: F9 B5, Site: KSC, Payload: Crew Dragon in-flight abort test, Mass: 12,050 kg, Orbit: Sub-orbital, Customer: NASA, Outcome: Success, Landing: No attempt\n",
      "\n",
      "Flight: 80, Date: 29 January 2020, Time: 14:07, Booster: F9 B5, Site: CCAFS, Payload: Starlink, Mass: 15,600 kg, Orbit: LEO, Customer: SpaceX, Outcome: Success, Landing: Success\n",
      "Flight: 81, Date: 17 February 2020, Time: 15:05, Booster: F9 B5, Site: CCAFS, Payload: Starlink, Mass: 15,600 kg, Orbit: LEO, Customer: SpaceX, Outcome: Success, Landing: Failure\n",
      "Flight: 82, Date: 7 March 2020, Time: 04:50, Booster: F9 B5, Site: CCAFS, Payload: SpaceX CRS-20, Mass: 1,977 kg, Orbit: LEO, Customer: NASA, Outcome: Success, Landing: Success\n",
      "Flight: 83, Date: 18 March 2020, Time: 12:16, Booster: F9 B5, Site: KSC, Payload: Starlink, Mass: 15,600 kg, Orbit: LEO, Customer: SpaceX, Outcome: Success, Landing: Failure\n",
      "Flight: 84, Date: 22 April 2020, Time: 19:30, Booster: F9 B5, Site: KSC, Payload: Starlink, Mass: 15,600 kg, Orbit: LEO, Customer: SpaceX, Outcome: Success, Landing: Success\n",
      "Flight: 85, Date: 30 May 2020, Time: 19:22, Booster: F9 B5[, Site: KSC, Payload: Crew Dragon Demo-2, Mass: 12,530 kg, Orbit: LEO, Customer: NASA, Outcome: Success, Landing: Success\n",
      "Flight: 86, Date: 4 June 2020, Time: 01:25, Booster: F9 B5, Site: CCAFS, Payload: Starlink, Mass: 15,600 kg, Orbit: LEO, Customer: SpaceX, Outcome: Success, Landing: Success\n",
      "Flight: 87, Date: 13 June 2020, Time: 09:21, Booster: F9 B5, Site: CCAFS, Payload: Starlink, Mass: 15,410 kg, Orbit: LEO, Customer: SpaceX, Outcome: Success, Landing: Success\n",
      "Flight: 88, Date: 30 June 2020, Time: 20:10:46, Booster: F9 B5, Site: CCAFS, Payload: GPS III, Mass: 4,311 kg, Orbit: MEO, Customer: U.S. Space Force, Outcome: Success, Landing: Success\n",
      "Flight: 89, Date: 20 July 2020, Time: 21:30, Booster: F9 B5B1058.2544, Site: CCAFS, Payload: ANASIS-II, Mass: 5,000–6,000 kg, Orbit: GTO, Customer: Republic of Korea Army, Outcome: Success, Landing: Success\n",
      "Flight: 90, Date: 7 August 2020, Time: 05:12, Booster: F9 B5, Site: KSC, Payload: Starlink, Mass: 14,932 kg, Orbit: LEO, Customer: SpaceX, Outcome: Success, Landing: Success\n",
      "Flight: 91, Date: 18 August 2020, Time: 14:31, Booster: F9 B5B1049.6544, Site: CCAFS, Payload: Starlink, Mass: ~15,440 kg, Orbit: LEO, Customer: SpaceX, Outcome: Success, Landing: Success\n",
      "Flight: 92, Date: 30 August 2020, Time: 23:18, Booster: F9 B5, Site: CCAFS, Payload: SAOCOM 1B, Mass: 3,130 kg, Orbit: SSO, Customer: CONAE, Outcome: Success, Landing: Success\n",
      "Flight: 93, Date: 3 September 2020, Time: 12:46:14, Booster: F9 B5B1060.2563, Site: KSC, Payload: Starlink, Mass: 15,600 kg, Orbit: LEO, Customer: SpaceX, Outcome: Success, Landing: Success\n",
      "Flight: 94, Date: 6 October 2020, Time: 11:29:34, Booster: F9 B5B1058.3565, Site: KSC, Payload: Starlink, Mass: 15,600 kg, Orbit: LEO, Customer: SpaceX, Outcome: Success, Landing: Success\n",
      "Flight: 95, Date: 18 October 2020, Time: 12:25:57, Booster: F9 B5B1051.6568, Site: KSC, Payload: Starlink, Mass: 15,600 kg, Orbit: LEO, Customer: SpaceX, Outcome: Success, Landing: Success\n",
      "Flight: 96, Date: 24 October 2020, Time: 15:31:34, Booster: F9 B5, Site: CCAFS, Payload: Starlink, Mass: 15,600 kg, Orbit: LEO, Customer: SpaceX, Outcome: Success, Landing: Success\n",
      "Flight: 97, Date: 5 November 2020, Time: 23:24:23, Booster: F9 B5, Site: CCAFS, Payload: GPS III, Mass: 4,311 kg, Orbit: MEO, Customer: USSF, Outcome: Success, Landing: Success\n",
      "Flight: 98, Date: 16 November 2020, Time: 00:27, Booster: F9 B5[, Site: KSC, Payload: Crew-1, Mass: ~12,500 kg, Orbit: LEO, Customer: NASA, Outcome: Success, Landing: Success\n",
      "Flight: 99, Date: 21 November 2020, Time: 17:17:08, Booster: F9 B5, Site: VAFB, Payload: Sentinel-6 Michael Freilich (Jason-CS A), Mass: 1,192 kg, Orbit: LEO, Customer: NASA, Outcome: Success, Landing: Success\n",
      "Flight: 100, Date: 25 November 2020, Time: 02:13, Booster: F9 B5 ♺[, Site: CCAFS, Payload: Starlink, Mass: 15,600 kg, Orbit: LEO, Customer: SpaceX, Outcome: Success, Landing: Success\n",
      "Flight: 101, Date: 6 December 2020, Time: 16:17:08, Booster: F9 B5 ♺[, Site: KSC, Payload: SpaceX CRS-21, Mass: 2,972 kg, Orbit: LEO, Customer: NASA, Outcome: Success, Landing: Success\n",
      "Flight: 102, Date: 13 December 2020, Time: 17:30:00, Booster: F9 B5 ♺, Site: CCSFS, Payload: SXM-7, Mass: 7,000 kg, Orbit: GTO, Customer: Sirius XM, Outcome: Success, Landing: Success\n",
      "Flight: 103, Date: 19 December 2020, Time: 14:00:00, Booster: F9 B5 ♺, Site: KSC, Payload: NROL-108, Mass: C, Orbit: LEO, Customer: NRO, Outcome: Success, Landing: Success\n",
      "Flight: 104, Date: 8 January 2021, Time: 02:15, Booster: F9 B5, Site: CCSFS, Payload: Türksat 5A, Mass: 3,500 kg, Orbit: GTO, Customer: Türksat, Outcome: Success, Landing: Success\n",
      "Flight: 105, Date: 20 January 2021, Time: 13:02, Booster: F9 B5B1051.8609, Site: KSC, Payload: Starlink, Mass: 15,600 kg, Orbit: LEO, Customer: SpaceX, Outcome: Success, Landing: Success\n",
      "Flight: 106, Date: 24 January 2021, Time: 15:00, Booster: F9 B5B1058.5613, Site: CCSFS, Payload: Transporter-1, Mass: ~5,000 kg, Orbit: SSO, Customer: Various, Outcome: Success, Landing: Success\n",
      "Flight: 107, Date: 4 February 2021, Time: 06:19, Booster: F9 B5 ♺[, Site: CCSFS, Payload: Starlink, Mass: 15,600 kg, Orbit: LEO, Customer: SpaceX, Outcome: Success, Landing: Success\n",
      "Flight: 108, Date: 16 February 2021, Time: 03:59:37, Booster: F9 B5 ♺, Site: CCSFS, Payload: Starlink, Mass: 15,600 kg, Orbit: LEO, Customer: SpaceX, Outcome: Success, Landing: Failure\n",
      "Flight: 109, Date: 4 March 2021, Time: 08:24, Booster: F9 B5 ♺[, Site: KSC, Payload: Starlink, Mass: 15,600 kg, Orbit: LEO, Customer: SpaceX, Outcome: Success, Landing: Success\n",
      "Flight: 110, Date: 11 March 2021, Time: 08:13:29, Booster: F9 B5 ♺[, Site: CCSFS, Payload: Starlink, Mass: 15,600 kg, Orbit: LEO, Customer: SpaceX, Outcome: Success, Landing: Success\n",
      "Flight: 111, Date: 14 March 2021, Time: 10:01, Booster: F9 B5 ♺, Site: KSC, Payload: Starlink, Mass: 15,600 kg, Orbit: LEO, Customer: SpaceX, Outcome: Success, Landing: Success\n",
      "Flight: 112, Date: 24 March 2021, Time: 08:28, Booster: F9 B5B1060.6643, Site: CCSFS, Payload: Starlink, Mass: 15,600 kg, Orbit: LEO, Customer: SpaceX, Outcome: Success, Landing: Success\n",
      "Flight: 113, Date: 7 April 2021, Time: 16:34, Booster: F9 B5 ♺, Site: CCSFS, Payload: Starlink, Mass: 15,600 kg, Orbit: LEO, Customer: SpaceX, Outcome: Success, Landing: Success\n",
      "Flight: 114, Date: 23 April 2021, Time: 9:49, Booster: F9 B5B1061.2647, Site: KSC, Payload: Crew-2, Mass: ~13,000 kg, Orbit: LEO, Customer: NASA, Outcome: Success, Landing: Success\n",
      "Flight: 115, Date: 29 April 2021, Time: 03:44, Booster: F9 B5B1060.7652, Site: CCSFS, Payload: Starlink, Mass: 15,600 kg, Orbit: LEO, Customer: SpaceX, Outcome: Success, Landing: Success\n",
      "Flight: 116, Date: 4 May 2021, Time: 19:01, Booster: F9 B5B1049.9655, Site: KSC, Payload: Starlink, Mass: 15,600 kg, Orbit: LEO, Customer: SpaceX, Outcome: Success, Landing: Success\n",
      "Flight: 117, Date: 9 May 2021, Time: 06:42, Booster: F9 B5B1051.10657, Site: CCSFS, Payload: Starlink, Mass: 15,600 kg, Orbit: LEO, Customer: SpaceX, Outcome: Success, Landing: Success\n",
      "Flight: 118, Date: 15 May 2021, Time: 22:56, Booster: F9 B5B1058.8660, Site: KSC, Payload: Starlink, Mass: ~14,000 kg, Orbit: LEO, Customer: SpaceX, Outcome: Success, Landing: Success\n",
      "Flight: 119, Date: 26 May 2021, Time: 18:59, Booster: F9 B5B1063.2665, Site: CCSFS, Payload: Starlink, Mass: 15,600 kg, Orbit: LEO, Customer: SpaceX, Outcome: Success, Landing: Success\n",
      "Flight: 120, Date: 3 June 2021, Time: 17:29, Booster: F9 B5B1067.1668, Site: KSC, Payload: SpaceX CRS-22, Mass: 3,328 kg, Orbit: LEO, Customer: NASA, Outcome: Success, Landing: Success\n",
      "Flight: 121, Date: 6 June 2021, Time: 04:26, Booster: F9 B5, Site: CCSFS, Payload: SXM-8, Mass: 7,000 kg, Orbit: GTO, Customer: Sirius XM, Outcome: Success, Landing: Success\n"
     ]
    }
   ],
   "source": [
    "extracted_row = 0\n",
    "\n",
    "for table_number, table in enumerate(soup.find_all('table', \"wikitable plainrowheaders collapsible\")):\n",
    "    for rows in table.find_all(\"tr\"):\n",
    "        \n",
    "        # check for flight number\n",
    "        if rows.th and rows.th.string:\n",
    "            flight_number = rows.th.string.strip()\n",
    "            flag = flight_number.isdigit()\n",
    "        else:\n",
    "            flag = False\n",
    "\n",
    "        row = rows.find_all('td')\n",
    "        \n",
    "        if flag:\n",
    "            extracted_row += 1\n",
    "\n",
    "            # Flight Number\n",
    "            launch_dict['Flight No.'].append(flight_number)\n",
    "\n",
    "            # Date and Time\n",
    "            datatimelist = date_time(row[0])\n",
    "            launch_dict['Date'].append(datatimelist)\n",
    "            date = datatimelist[0].strip(',')\n",
    "            launch_dict['Time'].append(datatimelist[1])\n",
    "            time = datatimelist[1]\n",
    "\n",
    "            # Booster version\n",
    "            bv = booster_version(row[1])\n",
    "            if not bv:\n",
    "                bv = row[1].a.string if row[1].a else row[1].get_text(strip=True)\n",
    "            launch_dict['Version Booster'].append(bv)\n",
    "\n",
    "            # Launch Site\n",
    "            launch_site = row[2].a.string if row[2].a else row[2].get_text(strip=True)\n",
    "            launch_dict['Launch site'].append(launch_site)\n",
    "\n",
    "            # Payload\n",
    "            payload = row[3].a.string if row[3].a else row[3].get_text(strip=True)\n",
    "            launch_dict['Payload'].append(payload)\n",
    "\n",
    "            # Payload Mass\n",
    "            payload_mass = get_mass(row[4])\n",
    "            launch_dict['Payload mass'].append(payload_mass)\n",
    "\n",
    "            # Orbit\n",
    "            orbit = row[5].a.string if row[5].a else row[5].get_text(strip=True)\n",
    "            launch_dict['Orbit'].append(orbit)\n",
    "\n",
    "            # Customer\n",
    "            customer = row[6].a.string if row[6].a else row[6].get_text(strip=True)\n",
    "            launch_dict['Customer'].append(customer)\n",
    "\n",
    "            # Launch outcome\n",
    "            launch_outcome = list(row[7].strings)[0].strip() if row[7] else None\n",
    "            launch_dict['Launch outcome'].append(launch_outcome)\n",
    "\n",
    "            # Booster landing\n",
    "            booster_landing = landing_status(row[8]) if len(row) > 8 else None\n",
    "            launch_dict['Booster landing'].append(booster_landing)\n",
    "\n",
    "            # Debug printing\n",
    "            print(f\"Flight: {flight_number}, Date: {date}, Time: {time}, \"\n",
    "                  f\"Booster: {bv}, Site: {launch_site}, Payload: {payload}, \"\n",
    "                  f\"Mass: {payload_mass}, Orbit: {orbit}, Customer: {customer}, \"\n",
    "                  f\"Outcome: {launch_outcome}, Landing: {booster_landing}\")\n"
   ]
  },
  {
   "cell_type": "markdown",
   "id": "497f7cb5-ef34-4b9b-bf64-dfa1f9a0e7f7",
   "metadata": {},
   "source": [
    "After you have fill in the parsed launch record values into `launch_dict`, you can create a dataframe from it.\n"
   ]
  },
  {
   "cell_type": "code",
   "execution_count": 20,
   "id": "2f0ecc72-b48f-45c6-b556-95b82806d638",
   "metadata": {},
   "outputs": [],
   "source": [
    "df= pd.DataFrame({ key:pd.Series(value) for key, value in launch_dict.items() })"
   ]
  },
  {
   "cell_type": "code",
   "execution_count": 21,
   "metadata": {},
   "outputs": [
    {
     "data": {
      "text/html": [
       "<div>\n",
       "<style scoped>\n",
       "    .dataframe tbody tr th:only-of-type {\n",
       "        vertical-align: middle;\n",
       "    }\n",
       "\n",
       "    .dataframe tbody tr th {\n",
       "        vertical-align: top;\n",
       "    }\n",
       "\n",
       "    .dataframe thead th {\n",
       "        text-align: right;\n",
       "    }\n",
       "</style>\n",
       "<table border=\"1\" class=\"dataframe\">\n",
       "  <thead>\n",
       "    <tr style=\"text-align: right;\">\n",
       "      <th></th>\n",
       "      <th>Flight No.</th>\n",
       "      <th>Launch site</th>\n",
       "      <th>Payload</th>\n",
       "      <th>Payload mass</th>\n",
       "      <th>Orbit</th>\n",
       "      <th>Customer</th>\n",
       "      <th>Launch outcome</th>\n",
       "      <th>Version Booster</th>\n",
       "      <th>Booster landing</th>\n",
       "      <th>Date</th>\n",
       "      <th>Time</th>\n",
       "    </tr>\n",
       "  </thead>\n",
       "  <tbody>\n",
       "    <tr>\n",
       "      <th>0</th>\n",
       "      <td>1</td>\n",
       "      <td>CCAFS</td>\n",
       "      <td>Dragon Spacecraft Qualification Unit</td>\n",
       "      <td>0</td>\n",
       "      <td>LEO</td>\n",
       "      <td>SpaceX</td>\n",
       "      <td>Success\\n</td>\n",
       "      <td>F9 v1.07B0003.18</td>\n",
       "      <td>Failure</td>\n",
       "      <td>[4 June 2010,, 18:45]</td>\n",
       "      <td>18:45</td>\n",
       "    </tr>\n",
       "    <tr>\n",
       "      <th>1</th>\n",
       "      <td>2</td>\n",
       "      <td>CCAFS</td>\n",
       "      <td>Dragon</td>\n",
       "      <td>0</td>\n",
       "      <td>LEO</td>\n",
       "      <td>NASA</td>\n",
       "      <td>Success</td>\n",
       "      <td>F9 v1.07B0004.18</td>\n",
       "      <td>Failure</td>\n",
       "      <td>[8 December 2010,, 15:43]</td>\n",
       "      <td>15:43</td>\n",
       "    </tr>\n",
       "    <tr>\n",
       "      <th>2</th>\n",
       "      <td>3</td>\n",
       "      <td>CCAFS</td>\n",
       "      <td>Dragon</td>\n",
       "      <td>525 kg</td>\n",
       "      <td>LEO</td>\n",
       "      <td>NASA</td>\n",
       "      <td>Success</td>\n",
       "      <td>F9 v1.07B0005.18</td>\n",
       "      <td>No attempt\\n</td>\n",
       "      <td>[22 May 2012,, 07:44]</td>\n",
       "      <td>07:44</td>\n",
       "    </tr>\n",
       "    <tr>\n",
       "      <th>3</th>\n",
       "      <td>4</td>\n",
       "      <td>CCAFS</td>\n",
       "      <td>SpaceX CRS-1</td>\n",
       "      <td>4,700 kg</td>\n",
       "      <td>LEO</td>\n",
       "      <td>NASA</td>\n",
       "      <td>Success\\n</td>\n",
       "      <td>F9 v1.07B0006.18</td>\n",
       "      <td>No attempt</td>\n",
       "      <td>[8 October 2012,, 00:35]</td>\n",
       "      <td>00:35</td>\n",
       "    </tr>\n",
       "    <tr>\n",
       "      <th>4</th>\n",
       "      <td>5</td>\n",
       "      <td>CCAFS</td>\n",
       "      <td>SpaceX CRS-2</td>\n",
       "      <td>4,877 kg</td>\n",
       "      <td>LEO</td>\n",
       "      <td>NASA</td>\n",
       "      <td>Success\\n</td>\n",
       "      <td>F9 v1.07B0007.18</td>\n",
       "      <td>No attempt\\n</td>\n",
       "      <td>[1 March 2013,, 15:10]</td>\n",
       "      <td>15:10</td>\n",
       "    </tr>\n",
       "  </tbody>\n",
       "</table>\n",
       "</div>"
      ],
      "text/plain": [
       "  Flight No. Launch site                               Payload Payload mass  \\\n",
       "0          1       CCAFS  Dragon Spacecraft Qualification Unit            0   \n",
       "1          2       CCAFS                                Dragon            0   \n",
       "2          3       CCAFS                                Dragon       525 kg   \n",
       "3          4       CCAFS                          SpaceX CRS-1     4,700 kg   \n",
       "4          5       CCAFS                          SpaceX CRS-2     4,877 kg   \n",
       "\n",
       "  Orbit Customer Launch outcome   Version Booster Booster landing  \\\n",
       "0   LEO   SpaceX      Success\\n  F9 v1.07B0003.18         Failure   \n",
       "1   LEO     NASA        Success  F9 v1.07B0004.18         Failure   \n",
       "2   LEO     NASA        Success  F9 v1.07B0005.18    No attempt\\n   \n",
       "3   LEO     NASA      Success\\n  F9 v1.07B0006.18      No attempt   \n",
       "4   LEO     NASA      Success\\n  F9 v1.07B0007.18    No attempt\\n   \n",
       "\n",
       "                        Date   Time  \n",
       "0      [4 June 2010,, 18:45]  18:45  \n",
       "1  [8 December 2010,, 15:43]  15:43  \n",
       "2      [22 May 2012,, 07:44]  07:44  \n",
       "3   [8 October 2012,, 00:35]  00:35  \n",
       "4     [1 March 2013,, 15:10]  15:10  "
      ]
     },
     "execution_count": 21,
     "metadata": {},
     "output_type": "execute_result"
    }
   ],
   "source": [
    "df.head()"
   ]
  },
  {
   "cell_type": "markdown",
   "id": "ae2a7078-1692-44a7-bc39-6b2c014f2fe7",
   "metadata": {},
   "source": [
    "We can now export it to a <b>CSV</b> for the next section, but to make the answers consistent and in case you have difficulties finishing this lab. \n",
    "\n",
    "Following labs will be using a provided dataset to make each lab independent. \n"
   ]
  },
  {
   "cell_type": "markdown",
   "id": "51033bb6-8bb7-4b96-b4f8-a7791f09d1d5",
   "metadata": {},
   "source": [
    "<code>df.to_csv('spacex_web_scraped.csv', index=False)</code>\n"
   ]
  },
  {
   "cell_type": "markdown",
   "id": "034c33c0-3994-4b85-8b6d-5e91250763f7",
   "metadata": {},
   "source": [
    "## Authors\n"
   ]
  },
  {
   "cell_type": "markdown",
   "id": "ecd10e97-65e4-4e0e-b23b-996e560ee644",
   "metadata": {},
   "source": [
    "<a href=\"https://www.linkedin.com/in/yan-luo-96288783/\">Yan Luo</a>\n"
   ]
  },
  {
   "cell_type": "markdown",
   "id": "dd7bf60e-612d-473d-9acb-466c293752ad",
   "metadata": {},
   "source": [
    "<a href=\"https://www.linkedin.com/in/nayefaboutayoun/\">Nayef Abou Tayoun</a>\n"
   ]
  },
  {
   "cell_type": "markdown",
   "id": "90f475ce-4568-4f93-8674-f4f67c21ec07",
   "metadata": {},
   "source": [
    "<!--\n",
    "## Change Log\n",
    "-->\n"
   ]
  },
  {
   "cell_type": "markdown",
   "id": "12c0234b-45a3-43ba-a9e8-352b66da7cf7",
   "metadata": {},
   "source": [
    "<!--\n",
    "| Date (YYYY-MM-DD) | Version | Changed By | Change Description      |\n",
    "| ----------------- | ------- | ---------- | ----------------------- |\n",
    "| 2021-06-09        | 1.0     | Yan Luo    | Tasks updates           |\n",
    "| 2020-11-10        | 1.0     | Nayef      | Created the initial version |\n",
    "-->\n"
   ]
  },
  {
   "cell_type": "markdown",
   "id": "f322ba7b-d72d-4e9d-b019-f0c7f95e57e9",
   "metadata": {},
   "source": [
    "Copyright © 2021 IBM Corporation. All rights reserved.\n"
   ]
  }
 ],
 "metadata": {
  "kernelspec": {
   "display_name": "chak_env",
   "language": "python",
   "name": "python3"
  },
  "language_info": {
   "codemirror_mode": {
    "name": "ipython",
    "version": 3
   },
   "file_extension": ".py",
   "mimetype": "text/x-python",
   "name": "python",
   "nbconvert_exporter": "python",
   "pygments_lexer": "ipython3",
   "version": "3.13.0"
  },
  "prev_pub_hash": "64f1b0aac408997185c47caba18730e0028b75e7934a0e5bf0ae73c5cb7ba677"
 },
 "nbformat": 4,
 "nbformat_minor": 4
}
